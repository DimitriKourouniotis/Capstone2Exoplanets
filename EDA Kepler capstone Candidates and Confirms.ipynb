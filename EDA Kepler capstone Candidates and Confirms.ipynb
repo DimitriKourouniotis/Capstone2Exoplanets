{
 "cells": [
  {
   "cell_type": "markdown",
   "metadata": {},
   "source": [
    "imports"
   ]
  },
  {
   "cell_type": "code",
   "execution_count": 2,
   "metadata": {},
   "outputs": [],
   "source": [
    "import pandas as pd\n",
    "import numpy as np\n",
    "import matplotlib.pyplot as plt\n",
    "import seaborn as sns\n",
    "%matplotlib inline"
   ]
  },
  {
   "cell_type": "markdown",
   "metadata": {},
   "source": [
    "https://www.kaggle.com/nasa/kepler-exoplanet-search-results\n",
    "Data set is cumulative obserbations from Kepler spaceship of Kepler Objects of Interest (KOI). The classifications are Candidates, Confirmed and False Positive exoplanets. The data are light, dimensions, orbits and temperature measurements with their margins of error of ~10,000 stars."
   ]
  },
  {
   "cell_type": "code",
   "execution_count": 11,
   "metadata": {},
   "outputs": [],
   "source": [
    "df = pd.read_csv('cumulative.csv')"
   ]
  },
  {
   "cell_type": "code",
   "execution_count": 13,
   "metadata": {},
   "outputs": [
    {
     "data": {
      "text/html": [
       "<div>\n",
       "<style>\n",
       "    .dataframe thead tr:only-child th {\n",
       "        text-align: right;\n",
       "    }\n",
       "\n",
       "    .dataframe thead th {\n",
       "        text-align: left;\n",
       "    }\n",
       "\n",
       "    .dataframe tbody tr th {\n",
       "        vertical-align: top;\n",
       "    }\n",
       "</style>\n",
       "<table border=\"1\" class=\"dataframe\">\n",
       "  <thead>\n",
       "    <tr style=\"text-align: right;\">\n",
       "      <th></th>\n",
       "      <th>rowid</th>\n",
       "      <th>kepid</th>\n",
       "      <th>kepoi_name</th>\n",
       "      <th>kepler_name</th>\n",
       "      <th>koi_disposition</th>\n",
       "      <th>koi_pdisposition</th>\n",
       "      <th>koi_score</th>\n",
       "      <th>koi_fpflag_nt</th>\n",
       "      <th>koi_fpflag_ss</th>\n",
       "      <th>koi_fpflag_co</th>\n",
       "      <th>...</th>\n",
       "      <th>koi_steff_err2</th>\n",
       "      <th>koi_slogg</th>\n",
       "      <th>koi_slogg_err1</th>\n",
       "      <th>koi_slogg_err2</th>\n",
       "      <th>koi_srad</th>\n",
       "      <th>koi_srad_err1</th>\n",
       "      <th>koi_srad_err2</th>\n",
       "      <th>ra</th>\n",
       "      <th>dec</th>\n",
       "      <th>koi_kepmag</th>\n",
       "    </tr>\n",
       "  </thead>\n",
       "  <tbody>\n",
       "    <tr>\n",
       "      <th>0</th>\n",
       "      <td>1</td>\n",
       "      <td>10797460</td>\n",
       "      <td>K00752.01</td>\n",
       "      <td>Kepler-227 b</td>\n",
       "      <td>CONFIRMED</td>\n",
       "      <td>CANDIDATE</td>\n",
       "      <td>1.000</td>\n",
       "      <td>0</td>\n",
       "      <td>0</td>\n",
       "      <td>0</td>\n",
       "      <td>...</td>\n",
       "      <td>-81.0</td>\n",
       "      <td>4.467</td>\n",
       "      <td>0.064</td>\n",
       "      <td>-0.096</td>\n",
       "      <td>0.927</td>\n",
       "      <td>0.105</td>\n",
       "      <td>-0.061</td>\n",
       "      <td>291.93423</td>\n",
       "      <td>48.141651</td>\n",
       "      <td>15.347</td>\n",
       "    </tr>\n",
       "    <tr>\n",
       "      <th>1</th>\n",
       "      <td>2</td>\n",
       "      <td>10797460</td>\n",
       "      <td>K00752.02</td>\n",
       "      <td>Kepler-227 c</td>\n",
       "      <td>CONFIRMED</td>\n",
       "      <td>CANDIDATE</td>\n",
       "      <td>0.969</td>\n",
       "      <td>0</td>\n",
       "      <td>0</td>\n",
       "      <td>0</td>\n",
       "      <td>...</td>\n",
       "      <td>-81.0</td>\n",
       "      <td>4.467</td>\n",
       "      <td>0.064</td>\n",
       "      <td>-0.096</td>\n",
       "      <td>0.927</td>\n",
       "      <td>0.105</td>\n",
       "      <td>-0.061</td>\n",
       "      <td>291.93423</td>\n",
       "      <td>48.141651</td>\n",
       "      <td>15.347</td>\n",
       "    </tr>\n",
       "    <tr>\n",
       "      <th>2</th>\n",
       "      <td>3</td>\n",
       "      <td>10811496</td>\n",
       "      <td>K00753.01</td>\n",
       "      <td>NaN</td>\n",
       "      <td>FALSE POSITIVE</td>\n",
       "      <td>FALSE POSITIVE</td>\n",
       "      <td>0.000</td>\n",
       "      <td>0</td>\n",
       "      <td>1</td>\n",
       "      <td>0</td>\n",
       "      <td>...</td>\n",
       "      <td>-176.0</td>\n",
       "      <td>4.544</td>\n",
       "      <td>0.044</td>\n",
       "      <td>-0.176</td>\n",
       "      <td>0.868</td>\n",
       "      <td>0.233</td>\n",
       "      <td>-0.078</td>\n",
       "      <td>297.00482</td>\n",
       "      <td>48.134129</td>\n",
       "      <td>15.436</td>\n",
       "    </tr>\n",
       "    <tr>\n",
       "      <th>3</th>\n",
       "      <td>4</td>\n",
       "      <td>10848459</td>\n",
       "      <td>K00754.01</td>\n",
       "      <td>NaN</td>\n",
       "      <td>FALSE POSITIVE</td>\n",
       "      <td>FALSE POSITIVE</td>\n",
       "      <td>0.000</td>\n",
       "      <td>0</td>\n",
       "      <td>1</td>\n",
       "      <td>0</td>\n",
       "      <td>...</td>\n",
       "      <td>-174.0</td>\n",
       "      <td>4.564</td>\n",
       "      <td>0.053</td>\n",
       "      <td>-0.168</td>\n",
       "      <td>0.791</td>\n",
       "      <td>0.201</td>\n",
       "      <td>-0.067</td>\n",
       "      <td>285.53461</td>\n",
       "      <td>48.285210</td>\n",
       "      <td>15.597</td>\n",
       "    </tr>\n",
       "    <tr>\n",
       "      <th>4</th>\n",
       "      <td>5</td>\n",
       "      <td>10854555</td>\n",
       "      <td>K00755.01</td>\n",
       "      <td>Kepler-664 b</td>\n",
       "      <td>CONFIRMED</td>\n",
       "      <td>CANDIDATE</td>\n",
       "      <td>1.000</td>\n",
       "      <td>0</td>\n",
       "      <td>0</td>\n",
       "      <td>0</td>\n",
       "      <td>...</td>\n",
       "      <td>-211.0</td>\n",
       "      <td>4.438</td>\n",
       "      <td>0.070</td>\n",
       "      <td>-0.210</td>\n",
       "      <td>1.046</td>\n",
       "      <td>0.334</td>\n",
       "      <td>-0.133</td>\n",
       "      <td>288.75488</td>\n",
       "      <td>48.226200</td>\n",
       "      <td>15.509</td>\n",
       "    </tr>\n",
       "  </tbody>\n",
       "</table>\n",
       "<p>5 rows × 50 columns</p>\n",
       "</div>"
      ],
      "text/plain": [
       "   rowid     kepid kepoi_name   kepler_name koi_disposition koi_pdisposition  \\\n",
       "0      1  10797460  K00752.01  Kepler-227 b       CONFIRMED        CANDIDATE   \n",
       "1      2  10797460  K00752.02  Kepler-227 c       CONFIRMED        CANDIDATE   \n",
       "2      3  10811496  K00753.01           NaN  FALSE POSITIVE   FALSE POSITIVE   \n",
       "3      4  10848459  K00754.01           NaN  FALSE POSITIVE   FALSE POSITIVE   \n",
       "4      5  10854555  K00755.01  Kepler-664 b       CONFIRMED        CANDIDATE   \n",
       "\n",
       "   koi_score  koi_fpflag_nt  koi_fpflag_ss  koi_fpflag_co     ...      \\\n",
       "0      1.000              0              0              0     ...       \n",
       "1      0.969              0              0              0     ...       \n",
       "2      0.000              0              1              0     ...       \n",
       "3      0.000              0              1              0     ...       \n",
       "4      1.000              0              0              0     ...       \n",
       "\n",
       "   koi_steff_err2  koi_slogg  koi_slogg_err1  koi_slogg_err2  koi_srad  \\\n",
       "0           -81.0      4.467           0.064          -0.096     0.927   \n",
       "1           -81.0      4.467           0.064          -0.096     0.927   \n",
       "2          -176.0      4.544           0.044          -0.176     0.868   \n",
       "3          -174.0      4.564           0.053          -0.168     0.791   \n",
       "4          -211.0      4.438           0.070          -0.210     1.046   \n",
       "\n",
       "   koi_srad_err1  koi_srad_err2         ra        dec  koi_kepmag  \n",
       "0          0.105         -0.061  291.93423  48.141651      15.347  \n",
       "1          0.105         -0.061  291.93423  48.141651      15.347  \n",
       "2          0.233         -0.078  297.00482  48.134129      15.436  \n",
       "3          0.201         -0.067  285.53461  48.285210      15.597  \n",
       "4          0.334         -0.133  288.75488  48.226200      15.509  \n",
       "\n",
       "[5 rows x 50 columns]"
      ]
     },
     "execution_count": 13,
     "metadata": {},
     "output_type": "execute_result"
    }
   ],
   "source": [
    "df.head()"
   ]
  },
  {
   "cell_type": "code",
   "execution_count": 15,
   "metadata": {},
   "outputs": [],
   "source": [
    "#df = df.reset_index('rowid', inplace=True, drop=True)"
   ]
  },
  {
   "cell_type": "code",
   "execution_count": 14,
   "metadata": {},
   "outputs": [
    {
     "data": {
      "text/plain": [
       "Index(['rowid', 'kepid', 'kepoi_name', 'kepler_name', 'koi_disposition',\n",
       "       'koi_pdisposition', 'koi_score', 'koi_fpflag_nt', 'koi_fpflag_ss',\n",
       "       'koi_fpflag_co', 'koi_fpflag_ec', 'koi_period', 'koi_period_err1',\n",
       "       'koi_period_err2', 'koi_time0bk', 'koi_time0bk_err1',\n",
       "       'koi_time0bk_err2', 'koi_impact', 'koi_impact_err1', 'koi_impact_err2',\n",
       "       'koi_duration', 'koi_duration_err1', 'koi_duration_err2', 'koi_depth',\n",
       "       'koi_depth_err1', 'koi_depth_err2', 'koi_prad', 'koi_prad_err1',\n",
       "       'koi_prad_err2', 'koi_teq', 'koi_teq_err1', 'koi_teq_err2', 'koi_insol',\n",
       "       'koi_insol_err1', 'koi_insol_err2', 'koi_model_snr', 'koi_tce_plnt_num',\n",
       "       'koi_tce_delivname', 'koi_steff', 'koi_steff_err1', 'koi_steff_err2',\n",
       "       'koi_slogg', 'koi_slogg_err1', 'koi_slogg_err2', 'koi_srad',\n",
       "       'koi_srad_err1', 'koi_srad_err2', 'ra', 'dec', 'koi_kepmag'],\n",
       "      dtype='object')"
      ]
     },
     "execution_count": 14,
     "metadata": {},
     "output_type": "execute_result"
    }
   ],
   "source": [
    "df.columns"
   ]
  },
  {
   "cell_type": "markdown",
   "metadata": {},
   "source": [
    "- Exoplanet Archive Disposition\n",
    "- Disposition Using Kepler Data\n",
    "- Disposition Score\n",
    "- Non Transit-Like False Positive Flag\n",
    "- Stellar Eclipse False Positive Flag\n",
    "- Centroid Offset False Positive Flag\n",
    "- Ephemeris Match Indicates Contamination False Positve Flag\n",
    "- Orbital Period [days] +/-\n",
    "- Transit Epoch [BKJD] +/-\n",
    "- Impact Parameter +/-\n",
    "- Transit Duration [hrs] +/-\n",
    "- Transit Depth [ppm] +/-\n",
    "- Planetary Radius [Earth Radii] +/-\n",
    "- Equilibrium Temperature [K] (and 2 NaN fields)\n",
    "- Isoation Flux [Earth Flux] : 'koi_insol','koi_insol_err1', 'koi_insol_err2'\n",
    "- Transit Signal-to-Noise : 'koi_model_snr'\n",
    "- TCE Planet Number : 'koi_tce_plnt_num'\n",
    "- TCE Delivery : 'koi_tce_delivname'\n",
    "- Stellar Effective Temperature [K] +/- : 'koi_steff', 'koi_steff_err1', 'koi_steff_err2'\n",
    "- Stellar Surface Gravity : 'koi_slogg', 'koi_slogg_err1', 'koi_slogg_err2'\n",
    "- Stellar Radius [Solar Radii]:  'koi_srad','koi_srad_err1', 'koi_srad_err2'\n",
    "- Right Ascension : 'ra'\n",
    "- Declination : 'dec'\n",
    "- Keplar Band [mag]: 'koi_kepmag'"
   ]
  },
  {
   "cell_type": "code",
   "execution_count": 16,
   "metadata": {},
   "outputs": [
    {
     "data": {
      "text/plain": [
       "(9564, 50)"
      ]
     },
     "execution_count": 16,
     "metadata": {},
     "output_type": "execute_result"
    }
   ],
   "source": [
    "df.shape"
   ]
  },
  {
   "cell_type": "markdown",
   "metadata": {},
   "source": [
    "Exoplanet Archive Disposition"
   ]
  },
  {
   "cell_type": "code",
   "execution_count": 17,
   "metadata": {},
   "outputs": [
    {
     "data": {
      "text/plain": [
       "FALSE POSITIVE    5023\n",
       "CONFIRMED         2293\n",
       "CANDIDATE         2248\n",
       "Name: koi_disposition, dtype: int64"
      ]
     },
     "execution_count": 17,
     "metadata": {},
     "output_type": "execute_result"
    }
   ],
   "source": [
    "#Exoplanet Archive Disposition\n",
    "df['koi_disposition'].value_counts()"
   ]
  },
  {
   "cell_type": "markdown",
   "metadata": {},
   "source": [
    "Disposition Using Kepler Data"
   ]
  },
  {
   "cell_type": "code",
   "execution_count": 18,
   "metadata": {},
   "outputs": [
    {
     "data": {
      "text/plain": [
       "FALSE POSITIVE    5068\n",
       "CANDIDATE         4496\n",
       "Name: koi_pdisposition, dtype: int64"
      ]
     },
     "execution_count": 18,
     "metadata": {},
     "output_type": "execute_result"
    }
   ],
   "source": [
    "#Disposition Using Kepler Data\n",
    "df['koi_pdisposition'].value_counts()"
   ]
  },
  {
   "cell_type": "markdown",
   "metadata": {},
   "source": [
    "Stellar Radius [Solar Radii]"
   ]
  },
  {
   "cell_type": "code",
   "execution_count": 19,
   "metadata": {},
   "outputs": [
    {
     "data": {
      "text/plain": [
       "count    9201.000000\n",
       "mean        1.728712\n",
       "std         6.127185\n",
       "min         0.109000\n",
       "25%         0.829000\n",
       "50%         1.000000\n",
       "75%         1.345000\n",
       "max       229.908000\n",
       "Name: koi_srad, dtype: float64"
      ]
     },
     "execution_count": 19,
     "metadata": {},
     "output_type": "execute_result"
    }
   ],
   "source": [
    "#Stellar Radius [Solar Radii]\n",
    "#Star dimensions relative to our sun\n",
    "df['koi_srad'].describe() "
   ]
  },
  {
   "cell_type": "code",
   "execution_count": 20,
   "metadata": {
    "scrolled": false
   },
   "outputs": [
    {
     "data": {
      "image/png": "[encoded data removed]",
      "text/plain": [
       "<matplotlib.figure.Figure at 0x2095446f630>"
      ]
     },
     "metadata": {},
     "output_type": "display_data"
    }
   ],
   "source": [
    "sns.set(style=\"ticks\", context=\"talk\")\n",
    "x = df['dec'].values\n",
    "y = df['ra'].values\n",
    "\n",
    "#Set Color for classification of exoplanets\n",
    "color_dict = { 'FALSE POSITIVE':'red', 'CONFIRMED':'green', 'CANDIDATE':'orange' }\n",
    "#**kwargs(markeredgewidth=1.5)\n",
    "\n",
    "#Set Size of star marker\n",
    "s = np.log(df['koi_srad'])**2.5\n",
    "\n",
    "plt.style.use(\"dark_background\")\n",
    "plt.figure(figsize=(12,12))\n",
    "plt.title('Kepler Observations')\n",
    "plt.scatter(x=x,y=y, color=[color_dict[i] for i in df['koi_disposition']], s=s )\n",
    "plt.show();"
   ]
  },
  {
   "cell_type": "code",
   "execution_count": 31,
   "metadata": {},
   "outputs": [
    {
     "data": {
      "image/png": "[encoded data removed]",
      "text/plain": [
       "<matplotlib.figure.Figure at 0x20954ab5a58>"
      ]
     },
     "metadata": {},
     "output_type": "display_data"
    }
   ],
   "source": [
    "confirmed_df = df[df['koi_disposition']=='CONFIRMED']\n",
    "\n",
    "sns.set(style=\"ticks\", context=\"talk\")\n",
    "x = confirmed_df['dec'].values\n",
    "y = confirmed_df['ra'].values\n",
    "\n",
    "#Set Color for classification of exoplanets\n",
    "color_dict = { 'FALSE POSITIVE':'red', 'CONFIRMED':'green', 'CANDIDATE':'orange' }\n",
    "#**kwargs(markeredgewidth=1.5)\n",
    "\n",
    "#Set Size of star marker\n",
    "s = np.log(confirmed_df['koi_srad'])**4\n",
    "\n",
    "plt.style.use(\"dark_background\")\n",
    "plt.figure(figsize=(12,12))\n",
    "plt.title('Kepler Observations of Stars with Confirmed Exoplanets')\n",
    "plt.scatter(x=x,y=y, color=[color_dict[i] for i in confirmed_df['koi_disposition']], s=s )\n",
    "plt.show();"
   ]
  },
  {
   "cell_type": "code",
   "execution_count": 32,
   "metadata": {},
   "outputs": [],
   "source": [
    "stardf = df[['koi_disposition','koi_period', 'koi_period_err1',\n",
    "       'koi_period_err2', 'koi_time0bk', 'koi_time0bk_err1',\n",
    "       'koi_time0bk_err2', 'koi_impact', 'koi_impact_err1', 'koi_impact_err2',\n",
    "       'koi_duration', 'koi_duration_err1', 'koi_duration_err2', 'koi_depth',\n",
    "       'koi_depth_err1', 'koi_depth_err2', 'koi_prad', 'koi_prad_err1',\n",
    "       'koi_prad_err2', 'koi_teq', 'koi_teq_err1', 'koi_teq_err2', 'koi_insol',\n",
    "       'koi_insol_err1', 'koi_insol_err2', 'koi_model_snr', 'koi_tce_plnt_num',\n",
    "       'koi_steff', 'koi_steff_err1', 'koi_steff_err2',\n",
    "       'koi_slogg', 'koi_slogg_err1', 'koi_slogg_err2', 'koi_srad',\n",
    "       'koi_srad_err1', 'koi_srad_err2']]"
   ]
  },
  {
   "cell_type": "code",
   "execution_count": 33,
   "metadata": {},
   "outputs": [
    {
     "data": {
      "text/html": [
       "<div>\n",
       "<style>\n",
       "    .dataframe thead tr:only-child th {\n",
       "        text-align: right;\n",
       "    }\n",
       "\n",
       "    .dataframe thead th {\n",
       "        text-align: left;\n",
       "    }\n",
       "\n",
       "    .dataframe tbody tr th {\n",
       "        vertical-align: top;\n",
       "    }\n",
       "</style>\n",
       "<table border=\"1\" class=\"dataframe\">\n",
       "  <thead>\n",
       "    <tr style=\"text-align: right;\">\n",
       "      <th></th>\n",
       "      <th>koi_disposition</th>\n",
       "      <th>koi_period</th>\n",
       "      <th>koi_period_err1</th>\n",
       "      <th>koi_period_err2</th>\n",
       "      <th>koi_time0bk</th>\n",
       "      <th>koi_time0bk_err1</th>\n",
       "      <th>koi_time0bk_err2</th>\n",
       "      <th>koi_impact</th>\n",
       "      <th>koi_impact_err1</th>\n",
       "      <th>koi_impact_err2</th>\n",
       "      <th>...</th>\n",
       "      <th>koi_tce_plnt_num</th>\n",
       "      <th>koi_steff</th>\n",
       "      <th>koi_steff_err1</th>\n",
       "      <th>koi_steff_err2</th>\n",
       "      <th>koi_slogg</th>\n",
       "      <th>koi_slogg_err1</th>\n",
       "      <th>koi_slogg_err2</th>\n",
       "      <th>koi_srad</th>\n",
       "      <th>koi_srad_err1</th>\n",
       "      <th>koi_srad_err2</th>\n",
       "    </tr>\n",
       "  </thead>\n",
       "  <tbody>\n",
       "    <tr>\n",
       "      <th>0</th>\n",
       "      <td>CONFIRMED</td>\n",
       "      <td>9.488036</td>\n",
       "      <td>2.775000e-05</td>\n",
       "      <td>-2.775000e-05</td>\n",
       "      <td>170.538750</td>\n",
       "      <td>0.002160</td>\n",
       "      <td>-0.002160</td>\n",
       "      <td>0.146</td>\n",
       "      <td>0.318</td>\n",
       "      <td>-0.146</td>\n",
       "      <td>...</td>\n",
       "      <td>1.0</td>\n",
       "      <td>5455.0</td>\n",
       "      <td>81.0</td>\n",
       "      <td>-81.0</td>\n",
       "      <td>4.467</td>\n",
       "      <td>0.064</td>\n",
       "      <td>-0.096</td>\n",
       "      <td>0.927</td>\n",
       "      <td>0.105</td>\n",
       "      <td>-0.061</td>\n",
       "    </tr>\n",
       "    <tr>\n",
       "      <th>1</th>\n",
       "      <td>CONFIRMED</td>\n",
       "      <td>54.418383</td>\n",
       "      <td>2.479000e-04</td>\n",
       "      <td>-2.479000e-04</td>\n",
       "      <td>162.513840</td>\n",
       "      <td>0.003520</td>\n",
       "      <td>-0.003520</td>\n",
       "      <td>0.586</td>\n",
       "      <td>0.059</td>\n",
       "      <td>-0.443</td>\n",
       "      <td>...</td>\n",
       "      <td>2.0</td>\n",
       "      <td>5455.0</td>\n",
       "      <td>81.0</td>\n",
       "      <td>-81.0</td>\n",
       "      <td>4.467</td>\n",
       "      <td>0.064</td>\n",
       "      <td>-0.096</td>\n",
       "      <td>0.927</td>\n",
       "      <td>0.105</td>\n",
       "      <td>-0.061</td>\n",
       "    </tr>\n",
       "    <tr>\n",
       "      <th>2</th>\n",
       "      <td>FALSE POSITIVE</td>\n",
       "      <td>19.899140</td>\n",
       "      <td>1.494000e-05</td>\n",
       "      <td>-1.494000e-05</td>\n",
       "      <td>175.850252</td>\n",
       "      <td>0.000581</td>\n",
       "      <td>-0.000581</td>\n",
       "      <td>0.969</td>\n",
       "      <td>5.126</td>\n",
       "      <td>-0.077</td>\n",
       "      <td>...</td>\n",
       "      <td>1.0</td>\n",
       "      <td>5853.0</td>\n",
       "      <td>158.0</td>\n",
       "      <td>-176.0</td>\n",
       "      <td>4.544</td>\n",
       "      <td>0.044</td>\n",
       "      <td>-0.176</td>\n",
       "      <td>0.868</td>\n",
       "      <td>0.233</td>\n",
       "      <td>-0.078</td>\n",
       "    </tr>\n",
       "    <tr>\n",
       "      <th>3</th>\n",
       "      <td>FALSE POSITIVE</td>\n",
       "      <td>1.736952</td>\n",
       "      <td>2.630000e-07</td>\n",
       "      <td>-2.630000e-07</td>\n",
       "      <td>170.307565</td>\n",
       "      <td>0.000115</td>\n",
       "      <td>-0.000115</td>\n",
       "      <td>1.276</td>\n",
       "      <td>0.115</td>\n",
       "      <td>-0.092</td>\n",
       "      <td>...</td>\n",
       "      <td>1.0</td>\n",
       "      <td>5805.0</td>\n",
       "      <td>157.0</td>\n",
       "      <td>-174.0</td>\n",
       "      <td>4.564</td>\n",
       "      <td>0.053</td>\n",
       "      <td>-0.168</td>\n",
       "      <td>0.791</td>\n",
       "      <td>0.201</td>\n",
       "      <td>-0.067</td>\n",
       "    </tr>\n",
       "    <tr>\n",
       "      <th>4</th>\n",
       "      <td>CONFIRMED</td>\n",
       "      <td>2.525592</td>\n",
       "      <td>3.761000e-06</td>\n",
       "      <td>-3.761000e-06</td>\n",
       "      <td>171.595550</td>\n",
       "      <td>0.001130</td>\n",
       "      <td>-0.001130</td>\n",
       "      <td>0.701</td>\n",
       "      <td>0.235</td>\n",
       "      <td>-0.478</td>\n",
       "      <td>...</td>\n",
       "      <td>1.0</td>\n",
       "      <td>6031.0</td>\n",
       "      <td>169.0</td>\n",
       "      <td>-211.0</td>\n",
       "      <td>4.438</td>\n",
       "      <td>0.070</td>\n",
       "      <td>-0.210</td>\n",
       "      <td>1.046</td>\n",
       "      <td>0.334</td>\n",
       "      <td>-0.133</td>\n",
       "    </tr>\n",
       "  </tbody>\n",
       "</table>\n",
       "<p>5 rows × 36 columns</p>\n",
       "</div>"
      ],
      "text/plain": [
       "  koi_disposition  koi_period  koi_period_err1  koi_period_err2  koi_time0bk  \\\n",
       "0       CONFIRMED    9.488036     2.775000e-05    -2.775000e-05   170.538750   \n",
       "1       CONFIRMED   54.418383     2.479000e-04    -2.479000e-04   162.513840   \n",
       "2  FALSE POSITIVE   19.899140     1.494000e-05    -1.494000e-05   175.850252   \n",
       "3  FALSE POSITIVE    1.736952     2.630000e-07    -2.630000e-07   170.307565   \n",
       "4       CONFIRMED    2.525592     3.761000e-06    -3.761000e-06   171.595550   \n",
       "\n",
       "   koi_time0bk_err1  koi_time0bk_err2  koi_impact  koi_impact_err1  \\\n",
       "0          0.002160         -0.002160       0.146            0.318   \n",
       "1          0.003520         -0.003520       0.586            0.059   \n",
       "2          0.000581         -0.000581       0.969            5.126   \n",
       "3          0.000115         -0.000115       1.276            0.115   \n",
       "4          0.001130         -0.001130       0.701            0.235   \n",
       "\n",
       "   koi_impact_err2      ...        koi_tce_plnt_num  koi_steff  \\\n",
       "0           -0.146      ...                     1.0     5455.0   \n",
       "1           -0.443      ...                     2.0     5455.0   \n",
       "2           -0.077      ...                     1.0     5853.0   \n",
       "3           -0.092      ...                     1.0     5805.0   \n",
       "4           -0.478      ...                     1.0     6031.0   \n",
       "\n",
       "   koi_steff_err1  koi_steff_err2  koi_slogg  koi_slogg_err1  koi_slogg_err2  \\\n",
       "0            81.0           -81.0      4.467           0.064          -0.096   \n",
       "1            81.0           -81.0      4.467           0.064          -0.096   \n",
       "2           158.0          -176.0      4.544           0.044          -0.176   \n",
       "3           157.0          -174.0      4.564           0.053          -0.168   \n",
       "4           169.0          -211.0      4.438           0.070          -0.210   \n",
       "\n",
       "   koi_srad  koi_srad_err1  koi_srad_err2  \n",
       "0     0.927          0.105         -0.061  \n",
       "1     0.927          0.105         -0.061  \n",
       "2     0.868          0.233         -0.078  \n",
       "3     0.791          0.201         -0.067  \n",
       "4     1.046          0.334         -0.133  \n",
       "\n",
       "[5 rows x 36 columns]"
      ]
     },
     "execution_count": 33,
     "metadata": {},
     "output_type": "execute_result"
    }
   ],
   "source": [
    "stardf.head()"
   ]
  },
  {
   "cell_type": "code",
   "execution_count": 169,
   "metadata": {},
   "outputs": [
    {
     "data": {
      "image/png": "[encoded data removed]",
      "text/plain": [
       "<matplotlib.figure.Figure at 0x29869f7df28>"
      ]
     },
     "metadata": {},
     "output_type": "display_data"
    }
   ],
   "source": [
    "import seaborn as sns\n",
    "sns.set(style=\"ticks\")\n",
    "\n",
    "# Draw a boxplot to show period by disposition\n",
    "y = np.log(df[\"koi_period\"])\n",
    "sns.boxplot(x='koi_disposition', y=y,  data=stardf, palette=\"PRGn\")\n",
    "sns.despine(offset=10, trim=True)\n",
    "plt.show()"
   ]
  },
  {
   "cell_type": "code",
   "execution_count": 170,
   "metadata": {},
   "outputs": [
    {
     "data": {
      "image/png": "[encoded data removed]",
      "text/plain": [
       "<matplotlib.figure.Figure at 0x2986a005b00>"
      ]
     },
     "metadata": {},
     "output_type": "display_data"
    }
   ],
   "source": [
    "# Draw a boxplot to show time by disposition\n",
    "y = np.log(df[\"koi_time0bk\"])\n",
    "sns.boxplot(x='koi_disposition', y=y,  data=stardf, palette=\"PRGn\")\n",
    "sns.despine(offset=10, trim=True)\n",
    "plt.show()"
   ]
  },
  {
   "cell_type": "code",
   "execution_count": 171,
   "metadata": {},
   "outputs": [
    {
     "name": "stderr",
     "output_type": "stream",
     "text": [
      "C:\\ProgramData\\Anaconda3\\lib\\site-packages\\ipykernel_launcher.py:2: RuntimeWarning: divide by zero encountered in log\n",
      "  \n"
     ]
    },
    {
     "data": {
      "image/png": "[encoded data removed]",
      "text/plain": [
       "<matplotlib.figure.Figure at 0x29869f90be0>"
      ]
     },
     "metadata": {},
     "output_type": "display_data"
    }
   ],
   "source": [
    "# Draw a boxplot to show impact by disposition\n",
    "y = np.log(df[\"koi_impact\"])\n",
    "sns.boxplot(x='koi_disposition', y=y,  data=stardf, palette=\"PRGn\")\n",
    "sns.despine(offset=10, trim=True)\n",
    "plt.show()"
   ]
  },
  {
   "cell_type": "code",
   "execution_count": 65,
   "metadata": {},
   "outputs": [],
   "source": [
    "dfnorm = stardf.drop('koi_disposition', axis=1)\n",
    "dfnorm_labels = stardf['koi_disposition']"
   ]
  },
  {
   "cell_type": "code",
   "execution_count": 66,
   "metadata": {},
   "outputs": [],
   "source": [
    "def normal(X):\n",
    "    Y= (X-np.mean(X))/(np.max(X)-np.min(X))\n",
    "    return Y"
   ]
  },
  {
   "cell_type": "code",
   "execution_count": 67,
   "metadata": {},
   "outputs": [],
   "source": [
    "dfnorm= dfnorm.apply(normal,axis=1)"
   ]
  },
  {
   "cell_type": "code",
   "execution_count": 68,
   "metadata": {},
   "outputs": [
    {
     "data": {
      "text/plain": [
       "9564"
      ]
     },
     "execution_count": 68,
     "metadata": {},
     "output_type": "execute_result"
    }
   ],
   "source": [
    "len(dfnorm.isnull().any(axis=1))"
   ]
  },
  {
   "cell_type": "markdown",
   "metadata": {},
   "source": [
    "almost all rows have a NaN value! "
   ]
  },
  {
   "cell_type": "code",
   "execution_count": 70,
   "metadata": {},
   "outputs": [
    {
     "data": {
      "text/html": [
       "<div>\n",
       "<style>\n",
       "    .dataframe thead tr:only-child th {\n",
       "        text-align: right;\n",
       "    }\n",
       "\n",
       "    .dataframe thead th {\n",
       "        text-align: left;\n",
       "    }\n",
       "\n",
       "    .dataframe tbody tr th {\n",
       "        vertical-align: top;\n",
       "    }\n",
       "</style>\n",
       "<table border=\"1\" class=\"dataframe\">\n",
       "  <thead>\n",
       "    <tr style=\"text-align: right;\">\n",
       "      <th></th>\n",
       "      <th>koi_period_err1</th>\n",
       "      <th>koi_period_err2</th>\n",
       "      <th>koi_time0bk_err1</th>\n",
       "      <th>koi_time0bk_err2</th>\n",
       "      <th>koi_impact</th>\n",
       "      <th>koi_impact_err1</th>\n",
       "      <th>koi_impact_err2</th>\n",
       "      <th>koi_duration_err1</th>\n",
       "      <th>koi_duration_err2</th>\n",
       "      <th>koi_depth</th>\n",
       "      <th>...</th>\n",
       "      <th>koi_tce_plnt_num</th>\n",
       "      <th>koi_steff</th>\n",
       "      <th>koi_steff_err1</th>\n",
       "      <th>koi_steff_err2</th>\n",
       "      <th>koi_slogg</th>\n",
       "      <th>koi_slogg_err1</th>\n",
       "      <th>koi_slogg_err2</th>\n",
       "      <th>koi_srad</th>\n",
       "      <th>koi_srad_err1</th>\n",
       "      <th>koi_srad_err2</th>\n",
       "    </tr>\n",
       "  </thead>\n",
       "  <tbody>\n",
       "    <tr>\n",
       "      <th>0</th>\n",
       "      <td>-0.039401</td>\n",
       "      <td>-0.039401</td>\n",
       "      <td>-0.039400</td>\n",
       "      <td>-0.039401</td>\n",
       "      <td>-0.039375</td>\n",
       "      <td>-0.039343</td>\n",
       "      <td>-0.039427</td>\n",
       "      <td>-0.039386</td>\n",
       "      <td>-0.039416</td>\n",
       "      <td>0.071835</td>\n",
       "      <td>...</td>\n",
       "      <td>-0.039220</td>\n",
       "      <td>0.945968</td>\n",
       "      <td>-0.024769</td>\n",
       "      <td>-0.054032</td>\n",
       "      <td>-0.038594</td>\n",
       "      <td>-0.039389</td>\n",
       "      <td>-0.039418</td>\n",
       "      <td>-0.039233</td>\n",
       "      <td>-0.039382</td>\n",
       "      <td>-0.039412</td>\n",
       "    </tr>\n",
       "    <tr>\n",
       "      <th>1</th>\n",
       "      <td>-0.038541</td>\n",
       "      <td>-0.038541</td>\n",
       "      <td>-0.038540</td>\n",
       "      <td>-0.038542</td>\n",
       "      <td>-0.038435</td>\n",
       "      <td>-0.038530</td>\n",
       "      <td>-0.038621</td>\n",
       "      <td>-0.038520</td>\n",
       "      <td>-0.038562</td>\n",
       "      <td>0.119479</td>\n",
       "      <td>...</td>\n",
       "      <td>-0.038180</td>\n",
       "      <td>0.946828</td>\n",
       "      <td>-0.023909</td>\n",
       "      <td>-0.053172</td>\n",
       "      <td>-0.037734</td>\n",
       "      <td>-0.038529</td>\n",
       "      <td>-0.038558</td>\n",
       "      <td>-0.038373</td>\n",
       "      <td>-0.038522</td>\n",
       "      <td>-0.038552</td>\n",
       "    </tr>\n",
       "    <tr>\n",
       "      <th>2</th>\n",
       "      <td>-0.048643</td>\n",
       "      <td>-0.048643</td>\n",
       "      <td>-0.048643</td>\n",
       "      <td>-0.048643</td>\n",
       "      <td>-0.048555</td>\n",
       "      <td>-0.048177</td>\n",
       "      <td>-0.048650</td>\n",
       "      <td>-0.048640</td>\n",
       "      <td>-0.048646</td>\n",
       "      <td>0.935365</td>\n",
       "      <td>...</td>\n",
       "      <td>-0.048552</td>\n",
       "      <td>0.483206</td>\n",
       "      <td>-0.034286</td>\n",
       "      <td>-0.064635</td>\n",
       "      <td>-0.048230</td>\n",
       "      <td>-0.048639</td>\n",
       "      <td>-0.048659</td>\n",
       "      <td>-0.048564</td>\n",
       "      <td>-0.048622</td>\n",
       "      <td>-0.048650</td>\n",
       "    </tr>\n",
       "    <tr>\n",
       "      <th>3</th>\n",
       "      <td>-0.063161</td>\n",
       "      <td>-0.063161</td>\n",
       "      <td>-0.063161</td>\n",
       "      <td>-0.063161</td>\n",
       "      <td>-0.063007</td>\n",
       "      <td>-0.063147</td>\n",
       "      <td>-0.063172</td>\n",
       "      <td>-0.063160</td>\n",
       "      <td>-0.063161</td>\n",
       "      <td>0.909118</td>\n",
       "      <td>...</td>\n",
       "      <td>-0.063040</td>\n",
       "      <td>0.635433</td>\n",
       "      <td>-0.044267</td>\n",
       "      <td>-0.084100</td>\n",
       "      <td>-0.062611</td>\n",
       "      <td>-0.063154</td>\n",
       "      <td>-0.063181</td>\n",
       "      <td>-0.063065</td>\n",
       "      <td>-0.063136</td>\n",
       "      <td>-0.063169</td>\n",
       "    </tr>\n",
       "    <tr>\n",
       "      <th>4</th>\n",
       "      <td>-0.046379</td>\n",
       "      <td>-0.046379</td>\n",
       "      <td>-0.046379</td>\n",
       "      <td>-0.046380</td>\n",
       "      <td>-0.046269</td>\n",
       "      <td>-0.046342</td>\n",
       "      <td>-0.046455</td>\n",
       "      <td>-0.046373</td>\n",
       "      <td>-0.046386</td>\n",
       "      <td>0.048700</td>\n",
       "      <td>...</td>\n",
       "      <td>-0.046222</td>\n",
       "      <td>0.904097</td>\n",
       "      <td>-0.019745</td>\n",
       "      <td>-0.079633</td>\n",
       "      <td>-0.045680</td>\n",
       "      <td>-0.046368</td>\n",
       "      <td>-0.046412</td>\n",
       "      <td>-0.046215</td>\n",
       "      <td>-0.046327</td>\n",
       "      <td>-0.046400</td>\n",
       "    </tr>\n",
       "  </tbody>\n",
       "</table>\n",
       "<p>5 rows × 32 columns</p>\n",
       "</div>"
      ],
      "text/plain": [
       "   koi_period_err1  koi_period_err2  koi_time0bk_err1  koi_time0bk_err2  \\\n",
       "0        -0.039401        -0.039401         -0.039400         -0.039401   \n",
       "1        -0.038541        -0.038541         -0.038540         -0.038542   \n",
       "2        -0.048643        -0.048643         -0.048643         -0.048643   \n",
       "3        -0.063161        -0.063161         -0.063161         -0.063161   \n",
       "4        -0.046379        -0.046379         -0.046379         -0.046380   \n",
       "\n",
       "   koi_impact  koi_impact_err1  koi_impact_err2  koi_duration_err1  \\\n",
       "0   -0.039375        -0.039343        -0.039427          -0.039386   \n",
       "1   -0.038435        -0.038530        -0.038621          -0.038520   \n",
       "2   -0.048555        -0.048177        -0.048650          -0.048640   \n",
       "3   -0.063007        -0.063147        -0.063172          -0.063160   \n",
       "4   -0.046269        -0.046342        -0.046455          -0.046373   \n",
       "\n",
       "   koi_duration_err2  koi_depth      ...        koi_tce_plnt_num  koi_steff  \\\n",
       "0          -0.039416   0.071835      ...               -0.039220   0.945968   \n",
       "1          -0.038562   0.119479      ...               -0.038180   0.946828   \n",
       "2          -0.048646   0.935365      ...               -0.048552   0.483206   \n",
       "3          -0.063161   0.909118      ...               -0.063040   0.635433   \n",
       "4          -0.046386   0.048700      ...               -0.046222   0.904097   \n",
       "\n",
       "   koi_steff_err1  koi_steff_err2  koi_slogg  koi_slogg_err1  koi_slogg_err2  \\\n",
       "0       -0.024769       -0.054032  -0.038594       -0.039389       -0.039418   \n",
       "1       -0.023909       -0.053172  -0.037734       -0.038529       -0.038558   \n",
       "2       -0.034286       -0.064635  -0.048230       -0.048639       -0.048659   \n",
       "3       -0.044267       -0.084100  -0.062611       -0.063154       -0.063181   \n",
       "4       -0.019745       -0.079633  -0.045680       -0.046368       -0.046412   \n",
       "\n",
       "   koi_srad  koi_srad_err1  koi_srad_err2  \n",
       "0 -0.039233      -0.039382      -0.039412  \n",
       "1 -0.038373      -0.038522      -0.038552  \n",
       "2 -0.048564      -0.048622      -0.048650  \n",
       "3 -0.063065      -0.063136      -0.063169  \n",
       "4 -0.046215      -0.046327      -0.046400  \n",
       "\n",
       "[5 rows x 32 columns]"
      ]
     },
     "execution_count": 70,
     "metadata": {},
     "output_type": "execute_result"
    }
   ],
   "source": [
    "#X_train.columns[X_train.isna().any()].tolist()\n",
    "dfnorm.loc[:, dfnorm.isnull().any()].head()"
   ]
  },
  {
   "cell_type": "code",
   "execution_count": null,
   "metadata": {},
   "outputs": [],
   "source": []
  },
  {
   "cell_type": "markdown",
   "metadata": {},
   "source": [
    "## WORK in PROGRESS"
   ]
  },
  {
   "cell_type": "code",
   "execution_count": null,
   "metadata": {},
   "outputs": [],
   "source": []
  },
  {
   "cell_type": "code",
   "execution_count": null,
   "metadata": {},
   "outputs": [],
   "source": [
    "#Which features will best be the best candidates \n",
    "\n",
    "#Import the classifiers\n",
    "from sklearn.svm import SVC\n",
    "from sklearn.naive_bayes import MultinomialNB\n",
    "from sklearn.tree import DecisionTreeClassifier\n",
    "from sklearn.neighbors import KNeighborsClassifier\n",
    "from sklearn.ensemble import RandomForestClassifier\n",
    "from sklearn.ensemble import AdaBoostClassifier\n",
    "from sklearn.ensemble import BaggingClassifier\n",
    "from sklearn.metrics import accuracy_score"
   ]
  },
  {
   "cell_type": "code",
   "execution_count": 41,
   "metadata": {},
   "outputs": [],
   "source": [
    "#Assign the classifiers \n",
    "svc = SVC(kernel='sigmoid', gamma=1.0)\n",
    "knc = KNeighborsClassifier(n_neighbors=5)\n",
    "mnb = MultinomialNB(alpha=0.2)\n",
    "dtc = DecisionTreeClassifier(min_samples_split=7, random_state=111)\n",
    "lrc = LogisticRegression(solver='liblinear', penalty='l1')\n",
    "rfc = RandomForestClassifier(n_estimators=31, random_state=111)\n",
    "abc = AdaBoostClassifier(n_estimators=62, random_state=111)\n",
    "bc = BaggingClassifier(n_estimators=9, random_state=111)"
   ]
  },
  {
   "cell_type": "code",
   "execution_count": 42,
   "metadata": {},
   "outputs": [],
   "source": [
    "clfs = {'SVC' : svc,'KN' : knc, 'NB': mnb, 'DT': dtc, 'RF': rfc, 'AdaBoost': abc, 'BgC': bc}"
   ]
  },
  {
   "cell_type": "code",
   "execution_count": 43,
   "metadata": {},
   "outputs": [],
   "source": [
    "def train_classifier(clf, feature_train, labels_train):\n",
    "    \"\"\"create the classfier feeder to fit the features and labels\"\"\"\n",
    "    clf.fit(feature_train, labels_train)"
   ]
  },
  {
   "cell_type": "code",
   "execution_count": 44,
   "metadata": {},
   "outputs": [],
   "source": [
    "def predict_labels(clf, features):\n",
    "    \"\"\"predicted values from the features matrix\"\"\"\n",
    "    return (clf.predict(features))"
   ]
  },
  {
   "cell_type": "code",
   "execution_count": null,
   "metadata": {},
   "outputs": [],
   "source": []
  }
 ],
 "metadata": {
  "kernelspec": {
   "display_name": "Python 3",
   "language": "python",
   "name": "python3"
  },
  "language_info": {
   "codemirror_mode": {
    "name": "ipython",
    "version": 3
   },
   "file_extension": ".py",
   "mimetype": "text/x-python",
   "name": "python",
   "nbconvert_exporter": "python",
   "pygments_lexer": "ipython3",
   "version": "3.6.3"
  }
 },
 "nbformat": 4,
 "nbformat_minor": 2
}
